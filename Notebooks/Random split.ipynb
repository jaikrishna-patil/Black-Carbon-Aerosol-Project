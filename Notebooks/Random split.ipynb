{
 "cells": [
  {
   "cell_type": "code",
   "execution_count": 1,
   "metadata": {},
   "outputs": [],
   "source": [
    "import tensorflow as tf\n",
    "from keras.models import Sequential\n",
    "from keras.layers import Dense, Activation, Flatten, Input\n",
    "from keras.callbacks import EarlyStopping, ModelCheckpoint, CSVLogger\n",
    "from sklearn.model_selection import train_test_split\n",
    "from sklearn.metrics import mean_absolute_percentage_error\n",
    "#import seaborn as sb\n",
    "import matplotlib.pyplot as plt\n",
    "import pandas as pd\n",
    "import numpy as np\n",
    "import warnings \n",
    "warnings.filterwarnings('ignore')\n",
    "warnings.filterwarnings('ignore', category=DeprecationWarning)\n",
    "from sklearn.preprocessing import StandardScaler\n",
    "import os\n",
    "from tensorflow import keras\n",
    "from keras_tuner import RandomSearch\n",
    "from tensorflow.keras import layers"
   ]
  },
  {
   "cell_type": "code",
   "execution_count": 2,
   "metadata": {},
   "outputs": [
    {
     "name": "stdout",
     "output_type": "stream",
     "text": [
      "/device:GPU:0\n"
     ]
    }
   ],
   "source": [
    "print(tf.test.gpu_device_name())"
   ]
  },
  {
   "cell_type": "code",
   "execution_count": 3,
   "metadata": {},
   "outputs": [
    {
     "data": {
      "text/html": [
       "<div>\n",
       "<style scoped>\n",
       "    .dataframe tbody tr th:only-of-type {\n",
       "        vertical-align: middle;\n",
       "    }\n",
       "\n",
       "    .dataframe tbody tr th {\n",
       "        vertical-align: top;\n",
       "    }\n",
       "\n",
       "    .dataframe thead th {\n",
       "        text-align: right;\n",
       "    }\n",
       "</style>\n",
       "<table border=\"1\" class=\"dataframe\">\n",
       "  <thead>\n",
       "    <tr style=\"text-align: right;\">\n",
       "      <th></th>\n",
       "      <th>wavelength</th>\n",
       "      <th>fractal_dimension</th>\n",
       "      <th>fraction_of_coating</th>\n",
       "      <th>primary_particle_size</th>\n",
       "      <th>number_of_primary_particles</th>\n",
       "      <th>vol_equi_radius_outer</th>\n",
       "      <th>vol_equi_radius_inner</th>\n",
       "      <th>equi_mobility_dia</th>\n",
       "      <th>mie_epsilon</th>\n",
       "      <th>length_scale_factor</th>\n",
       "      <th>...</th>\n",
       "      <th>q_sca</th>\n",
       "      <th>g</th>\n",
       "      <th>c_geo</th>\n",
       "      <th>c_ext</th>\n",
       "      <th>c_abs</th>\n",
       "      <th>c_sca</th>\n",
       "      <th>ssa</th>\n",
       "      <th>mac_total</th>\n",
       "      <th>mac_bc</th>\n",
       "      <th>mac_organics</th>\n",
       "    </tr>\n",
       "  </thead>\n",
       "  <tbody>\n",
       "    <tr>\n",
       "      <th>0</th>\n",
       "      <td>660</td>\n",
       "      <td>1.5</td>\n",
       "      <td>0</td>\n",
       "      <td>15.0</td>\n",
       "      <td>1</td>\n",
       "      <td>15.000000</td>\n",
       "      <td>15.000000</td>\n",
       "      <td>23.829600</td>\n",
       "      <td>2</td>\n",
       "      <td>0.0952</td>\n",
       "      <td>...</td>\n",
       "      <td>0.000389</td>\n",
       "      <td>0.003798</td>\n",
       "      <td>706.858347</td>\n",
       "      <td>0.000083</td>\n",
       "      <td>0.000083</td>\n",
       "      <td>2.750000e-07</td>\n",
       "      <td>0.003318</td>\n",
       "      <td>3.897000</td>\n",
       "      <td>3.897000</td>\n",
       "      <td>0.0</td>\n",
       "    </tr>\n",
       "    <tr>\n",
       "      <th>1</th>\n",
       "      <td>660</td>\n",
       "      <td>1.5</td>\n",
       "      <td>0</td>\n",
       "      <td>15.0</td>\n",
       "      <td>2</td>\n",
       "      <td>18.898816</td>\n",
       "      <td>18.898816</td>\n",
       "      <td>33.934547</td>\n",
       "      <td>2</td>\n",
       "      <td>0.0952</td>\n",
       "      <td>...</td>\n",
       "      <td>0.001005</td>\n",
       "      <td>0.008979</td>\n",
       "      <td>1122.067684</td>\n",
       "      <td>0.000173</td>\n",
       "      <td>0.000172</td>\n",
       "      <td>1.130000e-06</td>\n",
       "      <td>0.006529</td>\n",
       "      <td>4.047873</td>\n",
       "      <td>4.047873</td>\n",
       "      <td>0.0</td>\n",
       "    </tr>\n",
       "    <tr>\n",
       "      <th>2</th>\n",
       "      <td>660</td>\n",
       "      <td>1.5</td>\n",
       "      <td>0</td>\n",
       "      <td>15.0</td>\n",
       "      <td>4</td>\n",
       "      <td>23.811016</td>\n",
       "      <td>23.811016</td>\n",
       "      <td>48.324498</td>\n",
       "      <td>2</td>\n",
       "      <td>0.0952</td>\n",
       "      <td>...</td>\n",
       "      <td>0.002514</td>\n",
       "      <td>0.022970</td>\n",
       "      <td>1781.171422</td>\n",
       "      <td>0.000362</td>\n",
       "      <td>0.000357</td>\n",
       "      <td>4.480000e-06</td>\n",
       "      <td>0.012376</td>\n",
       "      <td>4.212336</td>\n",
       "      <td>4.212336</td>\n",
       "      <td>0.0</td>\n",
       "    </tr>\n",
       "    <tr>\n",
       "      <th>3</th>\n",
       "      <td>660</td>\n",
       "      <td>1.5</td>\n",
       "      <td>0</td>\n",
       "      <td>15.0</td>\n",
       "      <td>6</td>\n",
       "      <td>27.256809</td>\n",
       "      <td>27.256809</td>\n",
       "      <td>59.425643</td>\n",
       "      <td>2</td>\n",
       "      <td>0.0952</td>\n",
       "      <td>...</td>\n",
       "      <td>0.004187</td>\n",
       "      <td>0.037044</td>\n",
       "      <td>2333.994837</td>\n",
       "      <td>0.000550</td>\n",
       "      <td>0.000541</td>\n",
       "      <td>9.770000e-06</td>\n",
       "      <td>0.017756</td>\n",
       "      <td>4.248847</td>\n",
       "      <td>4.248847</td>\n",
       "      <td>0.0</td>\n",
       "    </tr>\n",
       "    <tr>\n",
       "      <th>4</th>\n",
       "      <td>660</td>\n",
       "      <td>1.5</td>\n",
       "      <td>0</td>\n",
       "      <td>15.0</td>\n",
       "      <td>8</td>\n",
       "      <td>30.000000</td>\n",
       "      <td>30.000000</td>\n",
       "      <td>68.816510</td>\n",
       "      <td>2</td>\n",
       "      <td>0.0952</td>\n",
       "      <td>...</td>\n",
       "      <td>0.005988</td>\n",
       "      <td>0.051049</td>\n",
       "      <td>2827.433388</td>\n",
       "      <td>0.000745</td>\n",
       "      <td>0.000728</td>\n",
       "      <td>1.690000e-05</td>\n",
       "      <td>0.022730</td>\n",
       "      <td>4.291000</td>\n",
       "      <td>4.291000</td>\n",
       "      <td>0.0</td>\n",
       "    </tr>\n",
       "  </tbody>\n",
       "</table>\n",
       "<p>5 rows × 36 columns</p>\n",
       "</div>"
      ],
      "text/plain": [
       "   wavelength  fractal_dimension  fraction_of_coating  primary_particle_size  \\\n",
       "0         660                1.5                    0                   15.0   \n",
       "1         660                1.5                    0                   15.0   \n",
       "2         660                1.5                    0                   15.0   \n",
       "3         660                1.5                    0                   15.0   \n",
       "4         660                1.5                    0                   15.0   \n",
       "\n",
       "   number_of_primary_particles  vol_equi_radius_outer  vol_equi_radius_inner  \\\n",
       "0                            1              15.000000              15.000000   \n",
       "1                            2              18.898816              18.898816   \n",
       "2                            4              23.811016              23.811016   \n",
       "3                            6              27.256809              27.256809   \n",
       "4                            8              30.000000              30.000000   \n",
       "\n",
       "   equi_mobility_dia  mie_epsilon  length_scale_factor  ...     q_sca  \\\n",
       "0          23.829600            2               0.0952  ...  0.000389   \n",
       "1          33.934547            2               0.0952  ...  0.001005   \n",
       "2          48.324498            2               0.0952  ...  0.002514   \n",
       "3          59.425643            2               0.0952  ...  0.004187   \n",
       "4          68.816510            2               0.0952  ...  0.005988   \n",
       "\n",
       "          g        c_geo     c_ext     c_abs         c_sca       ssa  \\\n",
       "0  0.003798   706.858347  0.000083  0.000083  2.750000e-07  0.003318   \n",
       "1  0.008979  1122.067684  0.000173  0.000172  1.130000e-06  0.006529   \n",
       "2  0.022970  1781.171422  0.000362  0.000357  4.480000e-06  0.012376   \n",
       "3  0.037044  2333.994837  0.000550  0.000541  9.770000e-06  0.017756   \n",
       "4  0.051049  2827.433388  0.000745  0.000728  1.690000e-05  0.022730   \n",
       "\n",
       "   mac_total    mac_bc  mac_organics  \n",
       "0   3.897000  3.897000           0.0  \n",
       "1   4.047873  4.047873           0.0  \n",
       "2   4.212336  4.212336           0.0  \n",
       "3   4.248847  4.248847           0.0  \n",
       "4   4.291000  4.291000           0.0  \n",
       "\n",
       "[5 rows x 36 columns]"
      ]
     },
     "execution_count": 3,
     "metadata": {},
     "output_type": "execute_result"
    }
   ],
   "source": [
    "df=pd.read_csv('database.csv')\n",
    "df.head()"
   ]
  },
  {
   "cell_type": "code",
   "execution_count": 4,
   "metadata": {},
   "outputs": [
    {
     "data": {
      "text/html": [
       "<div>\n",
       "<style scoped>\n",
       "    .dataframe tbody tr th:only-of-type {\n",
       "        vertical-align: middle;\n",
       "    }\n",
       "\n",
       "    .dataframe tbody tr th {\n",
       "        vertical-align: top;\n",
       "    }\n",
       "\n",
       "    .dataframe thead th {\n",
       "        text-align: right;\n",
       "    }\n",
       "</style>\n",
       "<table border=\"1\" class=\"dataframe\">\n",
       "  <thead>\n",
       "    <tr style=\"text-align: right;\">\n",
       "      <th></th>\n",
       "      <th>q_abs</th>\n",
       "      <th>q_sca</th>\n",
       "      <th>g</th>\n",
       "    </tr>\n",
       "  </thead>\n",
       "  <tbody>\n",
       "    <tr>\n",
       "      <th>0</th>\n",
       "      <td>0.11691</td>\n",
       "      <td>0.000389</td>\n",
       "      <td>0.003798</td>\n",
       "    </tr>\n",
       "    <tr>\n",
       "      <th>1</th>\n",
       "      <td>0.15300</td>\n",
       "      <td>0.001005</td>\n",
       "      <td>0.008979</td>\n",
       "    </tr>\n",
       "    <tr>\n",
       "      <th>2</th>\n",
       "      <td>0.20060</td>\n",
       "      <td>0.002514</td>\n",
       "      <td>0.022970</td>\n",
       "    </tr>\n",
       "    <tr>\n",
       "      <th>3</th>\n",
       "      <td>0.23162</td>\n",
       "      <td>0.004187</td>\n",
       "      <td>0.037044</td>\n",
       "    </tr>\n",
       "    <tr>\n",
       "      <th>4</th>\n",
       "      <td>0.25746</td>\n",
       "      <td>0.005988</td>\n",
       "      <td>0.051049</td>\n",
       "    </tr>\n",
       "  </tbody>\n",
       "</table>\n",
       "</div>"
      ],
      "text/plain": [
       "     q_abs     q_sca         g\n",
       "0  0.11691  0.000389  0.003798\n",
       "1  0.15300  0.001005  0.008979\n",
       "2  0.20060  0.002514  0.022970\n",
       "3  0.23162  0.004187  0.037044\n",
       "4  0.25746  0.005988  0.051049"
      ]
     },
     "execution_count": 4,
     "metadata": {},
     "output_type": "execute_result"
    }
   ],
   "source": [
    "X=df.iloc[:,:8]\n",
    "Y=df.iloc[:,25:28]\n",
    "Y.head()"
   ]
  },
  {
   "cell_type": "code",
   "execution_count": 5,
   "metadata": {},
   "outputs": [],
   "source": [
    "from sklearn.model_selection import train_test_split\n",
    "from sklearn.preprocessing import StandardScaler"
   ]
  },
  {
   "cell_type": "code",
   "execution_count": 6,
   "metadata": {},
   "outputs": [
    {
     "data": {
      "text/plain": [
       "3"
      ]
     },
     "execution_count": 6,
     "metadata": {},
     "output_type": "execute_result"
    }
   ],
   "source": [
    "X_train, X_test, Y_train, Y_test = train_test_split(\n",
    "        X, Y, \n",
    "        test_size=0.25, \n",
    "        random_state=42)\n",
    "Y_train.shape[1]"
   ]
  },
  {
   "cell_type": "code",
   "execution_count": 7,
   "metadata": {},
   "outputs": [],
   "source": [
    "scaling_x=StandardScaler()\n",
    "X_train=scaling_x.fit_transform(X_train)\n",
    "X_test=scaling_x.transform(X_test)\n"
   ]
  },
  {
   "cell_type": "code",
   "execution_count": null,
   "metadata": {},
   "outputs": [],
   "source": []
  },
  {
   "cell_type": "markdown",
   "metadata": {},
   "source": [
    "Hyperparameters:\n",
    "1. No of hideen layers\n",
    "2. No of neurons in hidden layers\n",
    "3. Learning rate"
   ]
  },
  {
   "cell_type": "code",
   "execution_count": 8,
   "metadata": {},
   "outputs": [],
   "source": [
    "def build_model(hp):\n",
    "    model=keras.Sequential()\n",
    "    model.add(Input(shape= (X_train.shape[1],)))\n",
    "    for i in range(hp.Int('num_layers', 3,10)):\n",
    "        model.add(layers.Dense(units=hp.Int('units_' + str(i),\n",
    "                                           min_value=32,\n",
    "                                           max_value=256,\n",
    "                                           step=32),\n",
    "                               activation='relu',\n",
    "                               kernel_initializer= hp.Choice('kernel_initializer', ['normal','he_normal', 'he_uniform'])))\n",
    "    model.add(layers.Dense(3, activation='linear'))\n",
    "    model.compile(optimizer=keras.optimizers.Adam(\n",
    "        hp.Choice('learning_rate', [1e-2, 1e-3])),\n",
    "        loss='mean_absolute_percentage_error',\n",
    "        metrics=['mean_absolute_percentage_error'])\n",
    "        \n",
    "    return model\n",
    "        \n",
    "    \n",
    "    "
   ]
  },
  {
   "cell_type": "code",
   "execution_count": 9,
   "metadata": {},
   "outputs": [],
   "source": [
    "tuner=RandomSearch(build_model,\n",
    "                  objective='val_mean_absolute_percentage_error',\n",
    "                  max_trials=2,\n",
    "                  executions_per_trial=1,\n",
    "                   directory= 'project1',\n",
    "                   project_name='random_split'\n",
    "                  )"
   ]
  },
  {
   "cell_type": "code",
   "execution_count": 10,
   "metadata": {},
   "outputs": [
    {
     "name": "stdout",
     "output_type": "stream",
     "text": [
      "Search space summary\n",
      "Default search space size: 6\n",
      "num_layers (Int)\n",
      "{'default': None, 'conditions': [], 'min_value': 3, 'max_value': 10, 'step': 1, 'sampling': None}\n",
      "units_0 (Int)\n",
      "{'default': None, 'conditions': [], 'min_value': 32, 'max_value': 256, 'step': 32, 'sampling': None}\n",
      "kernel_initializer (Choice)\n",
      "{'default': 'normal', 'conditions': [], 'values': ['normal', 'he_normal', 'he_uniform'], 'ordered': False}\n",
      "units_1 (Int)\n",
      "{'default': None, 'conditions': [], 'min_value': 32, 'max_value': 256, 'step': 32, 'sampling': None}\n",
      "units_2 (Int)\n",
      "{'default': None, 'conditions': [], 'min_value': 32, 'max_value': 256, 'step': 32, 'sampling': None}\n",
      "learning_rate (Choice)\n",
      "{'default': 0.01, 'conditions': [], 'values': [0.01, 0.001], 'ordered': True}\n"
     ]
    }
   ],
   "source": [
    "tuner.search_space_summary()"
   ]
  },
  {
   "cell_type": "code",
   "execution_count": 11,
   "metadata": {},
   "outputs": [],
   "source": [
    "es = EarlyStopping(monitor='val_loss', patience=100, verbose=1)"
   ]
  },
  {
   "cell_type": "code",
   "execution_count": 12,
   "metadata": {},
   "outputs": [
    {
     "name": "stdout",
     "output_type": "stream",
     "text": [
      "Trial 2 Complete [00h 00m 07s]\n",
      "val_mean_absolute_percentage_error: 20.364294052124023\n",
      "\n",
      "Best val_mean_absolute_percentage_error So Far: 20.364294052124023\n",
      "Total elapsed time: 00h 00m 15s\n",
      "INFO:tensorflow:Oracle triggered exit\n"
     ]
    }
   ],
   "source": [
    "tuner.search(X_train, Y_train, epochs=5, batch_size=32, validation_split = 0.2, callbacks=[es])"
   ]
  },
  {
   "cell_type": "code",
   "execution_count": 13,
   "metadata": {},
   "outputs": [
    {
     "name": "stdout",
     "output_type": "stream",
     "text": [
      "INFO:tensorflow:Oracle triggered exit\n"
     ]
    }
   ],
   "source": []
  },
  {
   "cell_type": "code",
   "execution_count": 14,
   "metadata": {},
   "outputs": [
    {
     "name": "stdout",
     "output_type": "stream",
     "text": [
      "Results summary\n",
      "Results in project1\\random_split\n",
      "Showing 10 best trials\n",
      "Objective(name='val_mean_absolute_percentage_error', direction='min')\n",
      "Trial summary\n",
      "Hyperparameters:\n",
      "num_layers: 10\n",
      "units_0: 192\n",
      "kernel_initializer: he_uniform\n",
      "units_1: 128\n",
      "units_2: 128\n",
      "learning_rate: 0.01\n",
      "units_3: 192\n",
      "units_4: 64\n",
      "units_5: 64\n",
      "units_6: 192\n",
      "units_7: 160\n",
      "units_8: 192\n",
      "units_9: 96\n",
      "Score: 20.364294052124023\n",
      "Trial summary\n",
      "Hyperparameters:\n",
      "num_layers: 10\n",
      "units_0: 128\n",
      "kernel_initializer: normal\n",
      "units_1: 64\n",
      "units_2: 224\n",
      "learning_rate: 0.001\n",
      "units_3: 32\n",
      "units_4: 32\n",
      "units_5: 32\n",
      "units_6: 32\n",
      "units_7: 32\n",
      "units_8: 32\n",
      "units_9: 32\n",
      "Score: 21.62499237060547\n"
     ]
    }
   ],
   "source": [
    "summary=tuner.results_summary()"
   ]
  },
  {
   "cell_type": "code",
   "execution_count": 18,
   "metadata": {},
   "outputs": [
    {
     "data": {
      "text/plain": [
       "NoneType"
      ]
     },
     "execution_count": 18,
     "metadata": {},
     "output_type": "execute_result"
    }
   ],
   "source": []
  },
  {
   "cell_type": "code",
   "execution_count": 15,
   "metadata": {},
   "outputs": [],
   "source": [
    "models = tuner.get_best_models(num_models=2)\n"
   ]
  },
  {
   "cell_type": "code",
   "execution_count": 16,
   "metadata": {},
   "outputs": [
    {
     "name": "stdout",
     "output_type": "stream",
     "text": [
      "Model: \"sequential\"\n",
      "_________________________________________________________________\n",
      "Layer (type)                 Output Shape              Param #   \n",
      "=================================================================\n",
      "dense (Dense)                (None, 192)               1728      \n",
      "_________________________________________________________________\n",
      "dense_1 (Dense)              (None, 128)               24704     \n",
      "_________________________________________________________________\n",
      "dense_2 (Dense)              (None, 128)               16512     \n",
      "_________________________________________________________________\n",
      "dense_3 (Dense)              (None, 192)               24768     \n",
      "_________________________________________________________________\n",
      "dense_4 (Dense)              (None, 64)                12352     \n",
      "_________________________________________________________________\n",
      "dense_5 (Dense)              (None, 64)                4160      \n",
      "_________________________________________________________________\n",
      "dense_6 (Dense)              (None, 192)               12480     \n",
      "_________________________________________________________________\n",
      "dense_7 (Dense)              (None, 160)               30880     \n",
      "_________________________________________________________________\n",
      "dense_8 (Dense)              (None, 192)               30912     \n",
      "_________________________________________________________________\n",
      "dense_9 (Dense)              (None, 96)                18528     \n",
      "_________________________________________________________________\n",
      "dense_10 (Dense)             (None, 3)                 291       \n",
      "=================================================================\n",
      "Total params: 177,315\n",
      "Trainable params: 177,315\n",
      "Non-trainable params: 0\n",
      "_________________________________________________________________\n"
     ]
    }
   ],
   "source": [
    "best_model = models[0]\n",
    "# Build the model.\n",
    "# Needed for `Sequential` without specified `input_shape`.\n",
    "best_model.build()\n",
    "best_model.summary()"
   ]
  },
  {
   "cell_type": "code",
   "execution_count": 17,
   "metadata": {},
   "outputs": [
    {
     "name": "stdout",
     "output_type": "stream",
     "text": [
      "Model: \"sequential\"\n",
      "_________________________________________________________________\n",
      "Layer (type)                 Output Shape              Param #   \n",
      "=================================================================\n",
      "dense (Dense)                (None, 128)               1152      \n",
      "_________________________________________________________________\n",
      "dense_1 (Dense)              (None, 64)                8256      \n",
      "_________________________________________________________________\n",
      "dense_2 (Dense)              (None, 224)               14560     \n",
      "_________________________________________________________________\n",
      "dense_3 (Dense)              (None, 32)                7200      \n",
      "_________________________________________________________________\n",
      "dense_4 (Dense)              (None, 32)                1056      \n",
      "_________________________________________________________________\n",
      "dense_5 (Dense)              (None, 32)                1056      \n",
      "_________________________________________________________________\n",
      "dense_6 (Dense)              (None, 32)                1056      \n",
      "_________________________________________________________________\n",
      "dense_7 (Dense)              (None, 32)                1056      \n",
      "_________________________________________________________________\n",
      "dense_8 (Dense)              (None, 32)                1056      \n",
      "_________________________________________________________________\n",
      "dense_9 (Dense)              (None, 32)                1056      \n",
      "_________________________________________________________________\n",
      "dense_10 (Dense)             (None, 3)                 99        \n",
      "=================================================================\n",
      "Total params: 37,603\n",
      "Trainable params: 37,603\n",
      "Non-trainable params: 0\n",
      "_________________________________________________________________\n",
      "None\n"
     ]
    }
   ],
   "source": [
    "best_model_2= models[1]\n",
    "\n",
    "best_model_2.build()\n",
    "print(best_model_2.summary())"
   ]
  },
  {
   "cell_type": "code",
   "execution_count": null,
   "metadata": {},
   "outputs": [],
   "source": []
  },
  {
   "cell_type": "code",
   "execution_count": 8,
   "metadata": {},
   "outputs": [],
   "source": [
    "def build_model():\n",
    "    model=Sequential()\n",
    "    input_layer= Input(shape= (X_train.shape[1],))\n",
    "    first_dense=Dense(units=256, kernel_initializer='normal', activation= 'relu')(input_layer)\n",
    "    second_dense=Dense(units=256, kernel_initializer='normal', activation= 'relu')(first_dense)\n",
    "    third_dense=Dense(units=224, kernel_initializer='normal', activation= 'relu')(second_dense)\n",
    "    fourth_dense=Dense(units=256, kernel_initializer='normal', activation= 'relu')(third_dense)\n",
    "    fifth_dense=Dense(units=224, kernel_initializer='normal', activation= 'relu')(fourth_dense)\n",
    "    sixth_dense=Dense(units=128, kernel_initializer='normal', activation= 'relu')(fifth_dense)\n",
    "    seventh_dense=Dense(units=32, kernel_initializer='normal', activation= 'relu')(sixth_dense)\n",
    "    eighth_dense=Dense(units=64, kernel_initializer='normal', activation= 'relu')(seventh_dense)\n",
    "    output_dense=Dense(units=3, kernel_initializer='normal', activation= 'linear')(eighth_dense)\n",
    "    #output_dense[:,0]=tf.keras.activations.sigmoid(output_dense[:,0])\n",
    "    #output_q_abs=  tf.keras.layers.Activation(tf.nn.softplus)(output_dense[:,0:1])\n",
    "    #output_q_sca= tf.keras.layers.Activation(tf.nn.softplus)(output_dense[:,1:2])\n",
    "    #output_g= tf.keras.layers.Activation(tf.nn.sigmoid)(output_dense[:,2:3])\n",
    "    #print(output_dense.shape)\n",
    "   \n",
    "    \n",
    "    #model=tf.keras.Model(inputs=input_layer, outputs= [output_q_abs, output_q_sca, output_g])\n",
    "    model=tf.keras.Model(inputs=input_layer, outputs= output_dense)\n",
    "    \n",
    "    return model\n",
    "    \n",
    "    "
   ]
  },
  {
   "cell_type": "code",
   "execution_count": 9,
   "metadata": {},
   "outputs": [
    {
     "name": "stdout",
     "output_type": "stream",
     "text": [
      "Model: \"model\"\n",
      "_________________________________________________________________\n",
      "Layer (type)                 Output Shape              Param #   \n",
      "=================================================================\n",
      "input_1 (InputLayer)         [(None, 8)]               0         \n",
      "_________________________________________________________________\n",
      "dense (Dense)                (None, 256)               2304      \n",
      "_________________________________________________________________\n",
      "dense_1 (Dense)              (None, 256)               65792     \n",
      "_________________________________________________________________\n",
      "dense_2 (Dense)              (None, 224)               57568     \n",
      "_________________________________________________________________\n",
      "dense_3 (Dense)              (None, 256)               57600     \n",
      "_________________________________________________________________\n",
      "dense_4 (Dense)              (None, 224)               57568     \n",
      "_________________________________________________________________\n",
      "dense_5 (Dense)              (None, 128)               28800     \n",
      "_________________________________________________________________\n",
      "dense_6 (Dense)              (None, 32)                4128      \n",
      "_________________________________________________________________\n",
      "dense_7 (Dense)              (None, 64)                2112      \n",
      "_________________________________________________________________\n",
      "dense_8 (Dense)              (None, 3)                 195       \n",
      "=================================================================\n",
      "Total params: 276,067\n",
      "Trainable params: 276,067\n",
      "Non-trainable params: 0\n",
      "_________________________________________________________________\n"
     ]
    }
   ],
   "source": [
    "model= build_model()\n",
    "\n",
    "#optimizer= tf.keras.optimizers.Adam(lr= 0.001)\n",
    "# model.compile(optimizer='adam',\n",
    "#              loss={\n",
    "#                  'q_abs': 'mean_absolute_percentage_error',\n",
    "#                  'q_sca': 'mean_absolute_percentage_error',\n",
    "#                  'g': 'mean_absolute_percentage_error'\n",
    "#              },\n",
    "#              metrics={\n",
    "#                  'q_abs': 'mean_absolute_percentage_error',\n",
    "#                  'q_sca': 'mean_absolute_percentage_error',\n",
    "#                  'g': 'mean_absolute_percentage_error'\n",
    "#              })\n",
    "model.compile(loss='mean_absolute_percentage_error', optimizer='adam', metrics=['mean_absolute_percentage_error'])\n",
    "\n",
    "model.summary()"
   ]
  },
  {
   "cell_type": "code",
   "execution_count": 10,
   "metadata": {},
   "outputs": [],
   "source": [
    "from keras.callbacks import EarlyStopping, ModelCheckpoint, CSVLogger\n"
   ]
  },
  {
   "cell_type": "code",
   "execution_count": 11,
   "metadata": {},
   "outputs": [],
   "source": [
    "filepath=\"random_split_with_min_max/best_model.hdf5\"\n",
    "\n",
    "checkpoint = ModelCheckpoint(filepath, verbose=1, monitor='val_loss',save_best_only=True, mode='auto')  "
   ]
  },
  {
   "cell_type": "code",
   "execution_count": 12,
   "metadata": {},
   "outputs": [],
   "source": [
    "# # patient early stopping\n",
    "es = EarlyStopping(monitor='val_loss', patience=100, verbose=1)"
   ]
  },
  {
   "cell_type": "code",
   "execution_count": 13,
   "metadata": {},
   "outputs": [],
   "source": [
    "log_csv=CSVLogger('random_split_loss_logs.csv', separator=',', append=False)"
   ]
  },
  {
   "cell_type": "code",
   "execution_count": 14,
   "metadata": {},
   "outputs": [],
   "source": [
    "callback_list=[checkpoint, es, log_csv]"
   ]
  },
  {
   "cell_type": "code",
   "execution_count": 15,
   "metadata": {},
   "outputs": [
    {
     "name": "stdout",
     "output_type": "stream",
     "text": [
      "Epoch 1/10\n",
      "185/185 [==============================] - 6s 10ms/step - loss: 41.6953 - mean_absolute_percentage_error: 41.6953 - val_loss: 21.4986 - val_mean_absolute_percentage_error: 21.4986\n",
      "\n",
      "Epoch 00001: val_loss improved from inf to 21.49858, saving model to random_split_with_min_max\\best_model.hdf5\n",
      "Epoch 2/10\n",
      "185/185 [==============================] - 1s 6ms/step - loss: 19.6077 - mean_absolute_percentage_error: 19.6077 - val_loss: 17.5631 - val_mean_absolute_percentage_error: 17.5631\n",
      "\n",
      "Epoch 00002: val_loss improved from 21.49858 to 17.56306, saving model to random_split_with_min_max\\best_model.hdf5\n",
      "Epoch 3/10\n",
      "185/185 [==============================] - 1s 6ms/step - loss: 15.1931 - mean_absolute_percentage_error: 15.1931 - val_loss: 14.7054 - val_mean_absolute_percentage_error: 14.7054\n",
      "\n",
      "Epoch 00003: val_loss improved from 17.56306 to 14.70544, saving model to random_split_with_min_max\\best_model.hdf5\n",
      "Epoch 4/10\n",
      "185/185 [==============================] - 1s 6ms/step - loss: 9.7459 - mean_absolute_percentage_error: 9.7459 - val_loss: 6.3574 - val_mean_absolute_percentage_error: 6.3574\n",
      "\n",
      "Epoch 00004: val_loss improved from 14.70544 to 6.35738, saving model to random_split_with_min_max\\best_model.hdf5\n",
      "Epoch 5/10\n",
      "185/185 [==============================] - 1s 6ms/step - loss: 7.3902 - mean_absolute_percentage_error: 7.3902 - val_loss: 8.9658 - val_mean_absolute_percentage_error: 8.9658\n",
      "\n",
      "Epoch 00005: val_loss did not improve from 6.35738\n",
      "Epoch 6/10\n",
      "185/185 [==============================] - 1s 6ms/step - loss: 6.8864 - mean_absolute_percentage_error: 6.8864 - val_loss: 6.4569 - val_mean_absolute_percentage_error: 6.4569\n",
      "\n",
      "Epoch 00006: val_loss did not improve from 6.35738\n",
      "Epoch 7/10\n",
      "185/185 [==============================] - 1s 6ms/step - loss: 5.9854 - mean_absolute_percentage_error: 5.9854 - val_loss: 6.3983 - val_mean_absolute_percentage_error: 6.3983\n",
      "\n",
      "Epoch 00007: val_loss did not improve from 6.35738\n",
      "Epoch 8/10\n",
      "185/185 [==============================] - 1s 6ms/step - loss: 6.3439 - mean_absolute_percentage_error: 6.3439 - val_loss: 6.2711 - val_mean_absolute_percentage_error: 6.2711\n",
      "\n",
      "Epoch 00008: val_loss improved from 6.35738 to 6.27115, saving model to random_split_with_min_max\\best_model.hdf5\n",
      "Epoch 9/10\n",
      "185/185 [==============================] - 1s 6ms/step - loss: 5.6549 - mean_absolute_percentage_error: 5.6549 - val_loss: 6.3299 - val_mean_absolute_percentage_error: 6.3299\n",
      "\n",
      "Epoch 00009: val_loss did not improve from 6.27115\n",
      "Epoch 10/10\n",
      "185/185 [==============================] - 1s 6ms/step - loss: 5.7405 - mean_absolute_percentage_error: 5.7405 - val_loss: 4.9595 - val_mean_absolute_percentage_error: 4.9595\n",
      "\n",
      "Epoch 00010: val_loss improved from 6.27115 to 4.95954, saving model to random_split_with_min_max\\best_model.hdf5\n"
     ]
    }
   ],
   "source": [
    "history= model.fit(X_train, Y_train, epochs=10, batch_size=32, validation_split = 0.2, callbacks=callback_list)\n",
    "#history= NN_model.fit(X_train, Y_train, epochs=7, batch_size=32, validation_split = 0.2)"
   ]
  },
  {
   "cell_type": "code",
   "execution_count": 17,
   "metadata": {},
   "outputs": [],
   "source": [
    "# latest=tf.train.latest_checkpoint(checkpoint_dir)\n",
    "weights_file = 'random_split_with_min_max/Weights-448--1.34756.hdf5' # choose the best checkpoint \n",
    "model.load_weights(weights_file) # load it\n",
    "model.compile(loss='mean_absolute_percentage_error', optimizer='adam', metrics=['mean_absolute_percentage_error'])"
   ]
  },
  {
   "cell_type": "code",
   "execution_count": 18,
   "metadata": {},
   "outputs": [],
   "source": [
    "model.save('random_split_model.h5')"
   ]
  },
  {
   "cell_type": "code",
   "execution_count": 19,
   "metadata": {},
   "outputs": [
    {
     "name": "stdout",
     "output_type": "stream",
     "text": [
      "Train loss: 1.232, Validation loss: 1.394\n"
     ]
    },
    {
     "data": {
      "image/png": "[encoded data removed]",
      "text/plain": [
       "<Figure size 432x288 with 1 Axes>"
      ]
     },
     "metadata": {
      "needs_background": "light"
     },
     "output_type": "display_data"
    }
   ],
   "source": [
    "# evaluate the model\n",
    "train_loss, train_acc = model.evaluate(X_train, Y_train, verbose=0)\n",
    "test_loss, test_acc = model.evaluate(X_test, Y_test, verbose=0)\n",
    "print('Train loss: %.3f, Validation loss: %.3f' % (train_loss, test_loss))\n",
    "# plot training history\n",
    "plt.plot(history.history['loss'], label='train')\n",
    "plt.plot(history.history['val_loss'], label='Validation')\n",
    "plt.legend()\n",
    "plt.show()"
   ]
  },
  {
   "cell_type": "code",
   "execution_count": 20,
   "metadata": {},
   "outputs": [],
   "source": [
    "from sklearn.metrics import mean_absolute_percentage_error"
   ]
  },
  {
   "cell_type": "code",
   "execution_count": 21,
   "metadata": {},
   "outputs": [],
   "source": [
    "Y_pred = model.predict(X_test)\n",
    "#Y_pred[0]= pd.DataFrame(Y_pred[0], columns =['q_abs'])\n",
    "#Y_pred[1]= pd.DataFrame(Y_pred[1], columns =['q_sca'])\n",
    "#Y_pred[2]= pd.DataFrame(Y_pred[2], columns =['g'])\n",
    "#predictions= pd.concat([Y_pred[0], Y_pred[1], Y_pred[2]], axis=1)\n",
    "#predictions"
   ]
  },
  {
   "cell_type": "code",
   "execution_count": 22,
   "metadata": {},
   "outputs": [
    {
     "name": "stdout",
     "output_type": "stream",
     "text": [
      "Mean absolute percentage error on test set:  [0.00773196 0.01796328 0.01612322]\n"
     ]
    }
   ],
   "source": [
    "error= mean_absolute_percentage_error(Y_test, Y_pred, multioutput='raw_values')   \n",
    "print('Mean absolute percentage error on test set: ', error)"
   ]
  },
  {
   "cell_type": "code",
   "execution_count": null,
   "metadata": {},
   "outputs": [],
   "source": []
  },
  {
   "cell_type": "code",
   "execution_count": null,
   "metadata": {},
   "outputs": [],
   "source": []
  },
  {
   "cell_type": "code",
   "execution_count": null,
   "metadata": {},
   "outputs": [],
   "source": []
  }
 ],
 "metadata": {
  "kernelspec": {
   "display_name": "Python 3 (ipykernel)",
   "language": "python",
   "name": "python3"
  },
  "language_info": {
   "codemirror_mode": {
    "name": "ipython",
    "version": 3
   },
   "file_extension": ".py",
   "mimetype": "text/x-python",
   "name": "python",
   "nbconvert_exporter": "python",
   "pygments_lexer": "ipython3",
   "version": "3.9.7"
  }
 },
 "nbformat": 4,
 "nbformat_minor": 4
}
