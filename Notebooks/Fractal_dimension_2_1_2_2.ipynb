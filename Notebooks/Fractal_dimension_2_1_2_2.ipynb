{
 "cells": [
  {
   "cell_type": "code",
   "execution_count": 1,
   "metadata": {},
   "outputs": [],
   "source": [
    "import tensorflow as tf\n",
    "from keras.models import Sequential\n",
    "from keras.layers import Dense, Activation, Flatten\n",
    "from keras.callbacks import EarlyStopping, ModelCheckpoint, CSVLogger\n",
    "from sklearn.model_selection import train_test_split\n",
    "from sklearn.metrics import mean_absolute_percentage_error\n",
    "import seaborn as sb\n",
    "import matplotlib.pyplot as plt\n",
    "import pandas as pd\n",
    "import numpy as np\n",
    "import warnings \n",
    "warnings.filterwarnings('ignore')\n",
    "warnings.filterwarnings('ignore', category=DeprecationWarning)\n",
    "from sklearn.preprocessing import StandardScaler\n",
    "import os\n",
    "from tensorflow import keras\n",
    "from kerastuner.tuners import RandomSearch\n",
    "from tensorflow.keras import layers"
   ]
  },
  {
   "cell_type": "code",
   "execution_count": 2,
   "metadata": {},
   "outputs": [],
   "source": [
    "df1=pd.read_csv(\"database.csv\")"
   ]
  },
  {
   "cell_type": "code",
   "execution_count": 3,
   "metadata": {},
   "outputs": [
    {
     "data": {
      "text/html": [
       "<div>\n",
       "<style scoped>\n",
       "    .dataframe tbody tr th:only-of-type {\n",
       "        vertical-align: middle;\n",
       "    }\n",
       "\n",
       "    .dataframe tbody tr th {\n",
       "        vertical-align: top;\n",
       "    }\n",
       "\n",
       "    .dataframe thead th {\n",
       "        text-align: right;\n",
       "    }\n",
       "</style>\n",
       "<table border=\"1\" class=\"dataframe\">\n",
       "  <thead>\n",
       "    <tr style=\"text-align: right;\">\n",
       "      <th></th>\n",
       "      <th>q_abs</th>\n",
       "      <th>q_sca</th>\n",
       "      <th>g</th>\n",
       "    </tr>\n",
       "  </thead>\n",
       "  <tbody>\n",
       "    <tr>\n",
       "      <th>0</th>\n",
       "      <td>0.11691</td>\n",
       "      <td>0.000389</td>\n",
       "      <td>0.003798</td>\n",
       "    </tr>\n",
       "    <tr>\n",
       "      <th>1</th>\n",
       "      <td>0.15300</td>\n",
       "      <td>0.001005</td>\n",
       "      <td>0.008979</td>\n",
       "    </tr>\n",
       "    <tr>\n",
       "      <th>2</th>\n",
       "      <td>0.20060</td>\n",
       "      <td>0.002514</td>\n",
       "      <td>0.022970</td>\n",
       "    </tr>\n",
       "    <tr>\n",
       "      <th>3</th>\n",
       "      <td>0.23162</td>\n",
       "      <td>0.004187</td>\n",
       "      <td>0.037044</td>\n",
       "    </tr>\n",
       "    <tr>\n",
       "      <th>4</th>\n",
       "      <td>0.25746</td>\n",
       "      <td>0.005988</td>\n",
       "      <td>0.051049</td>\n",
       "    </tr>\n",
       "  </tbody>\n",
       "</table>\n",
       "</div>"
      ],
      "text/plain": [
       "     q_abs     q_sca         g\n",
       "0  0.11691  0.000389  0.003798\n",
       "1  0.15300  0.001005  0.008979\n",
       "2  0.20060  0.002514  0.022970\n",
       "3  0.23162  0.004187  0.037044\n",
       "4  0.25746  0.005988  0.051049"
      ]
     },
     "execution_count": 3,
     "metadata": {},
     "output_type": "execute_result"
    }
   ],
   "source": [
    "Y = df1.iloc[:,25:28]\n",
    "X = df1.iloc[:,:8]\n",
    "Y.head()"
   ]
  },
  {
   "cell_type": "code",
   "execution_count": 44,
   "metadata": {},
   "outputs": [
    {
     "data": {
      "text/plain": [
       "(2968, 36)"
      ]
     },
     "execution_count": 44,
     "metadata": {},
     "output_type": "execute_result"
    }
   ],
   "source": [
    "train_set=df1[(df1['fractal_dimension']<2.1) | (df1['fractal_dimension']>2.2)]\n",
    "test_set=df1[(df1['fractal_dimension']==2.1) | (df1['fractal_dimension']==2.2)]\n",
    "test_set.shape"
   ]
  },
  {
   "cell_type": "code",
   "execution_count": 45,
   "metadata": {},
   "outputs": [],
   "source": [
    "Y_train = train_set.iloc[:,25:28]\n",
    "X_train = train_set.iloc[:,:8]\n",
    "Y_test = test_set.iloc[:,25:28]\n",
    "X_test = test_set.iloc[:,:8]"
   ]
  },
  {
   "cell_type": "code",
   "execution_count": 46,
   "metadata": {},
   "outputs": [],
   "source": [
    "scaling_x=StandardScaler()\n",
    "#scaling_y=StandardScaler()\n",
    "X_train=scaling_x.fit_transform(X_train)\n",
    "X_test=scaling_x.transform(X_test)\n",
    "#Y_train=scaling_y.fit_transform(Y_train)"
   ]
  },
  {
   "cell_type": "markdown",
   "metadata": {},
   "source": [
    "Hyperparameters:\n",
    "1. No of hideen layers\n",
    "2. No of neurons in hidden layers\n",
    "3. Learning rate"
   ]
  },
  {
   "cell_type": "code",
   "execution_count": 7,
   "metadata": {},
   "outputs": [],
   "source": [
    "def build_model(hp):\n",
    "    model=keras.Sequential()\n",
    "    \n",
    "    for i in range(hp.Int('num_layers', 3,10)):\n",
    "        model.add(layers.Dense(units=hp.Int('units_' + str(i),\n",
    "                                           min_value=32,\n",
    "                                           max_value=256,\n",
    "                                           step=32),\n",
    "                              activation='relu'))\n",
    "        model.add(layers.Dense(3, activation='linear'))\n",
    "        model.compile(optimizer=keras.optimizers.Adam(\n",
    "            hp.Choice('learning_rate', [1e-1, 1e-2, 1e-3, 1e-4])),\n",
    "        loss='mean_absolute_percentage_error',\n",
    "        metrics=['mean_absolute_percentage_error'])\n",
    "        \n",
    "    return model\n",
    "        \n",
    "    \n",
    "    "
   ]
  },
  {
   "cell_type": "code",
   "execution_count": 8,
   "metadata": {},
   "outputs": [],
   "source": [
    "tuner=RandomSearch(build_model,\n",
    "                  objective='mean_absolute_percentage_error',\n",
    "                  max_trials=10,\n",
    "                  executions_per_trial=3,\n",
    "                   directory= 'project1',\n",
    "                   project_name='fractal_dim_2_1_2_2'\n",
    "                  )"
   ]
  },
  {
   "cell_type": "code",
   "execution_count": 9,
   "metadata": {},
   "outputs": [
    {
     "name": "stdout",
     "output_type": "stream",
     "text": [
      "Search space summary\n",
      "Default search space size: 5\n",
      "num_layers (Int)\n",
      "{'default': None, 'conditions': [], 'min_value': 3, 'max_value': 10, 'step': 1, 'sampling': None}\n",
      "units_0 (Int)\n",
      "{'default': None, 'conditions': [], 'min_value': 32, 'max_value': 256, 'step': 32, 'sampling': None}\n",
      "learning_rate (Choice)\n",
      "{'default': 0.1, 'conditions': [], 'values': [0.1, 0.01, 0.001, 0.0001], 'ordered': True}\n",
      "units_1 (Int)\n",
      "{'default': None, 'conditions': [], 'min_value': 32, 'max_value': 256, 'step': 32, 'sampling': None}\n",
      "units_2 (Int)\n",
      "{'default': None, 'conditions': [], 'min_value': 32, 'max_value': 256, 'step': 32, 'sampling': None}\n"
     ]
    }
   ],
   "source": [
    "tuner.search_space_summary()"
   ]
  },
  {
   "cell_type": "code",
   "execution_count": 10,
   "metadata": {},
   "outputs": [
    {
     "name": "stdout",
     "output_type": "stream",
     "text": [
      "Trial 10 Complete [00h 03m 07s]\n",
      "mean_absolute_percentage_error: 16.28429921468099\n",
      "\n",
      "Best mean_absolute_percentage_error So Far: 2.778304179509481\n",
      "Total elapsed time: 00h 27m 06s\n",
      "INFO:tensorflow:Oracle triggered exit\n"
     ]
    }
   ],
   "source": [
    "tuner.search(X_train, Y_train, epochs=200)"
   ]
  },
  {
   "cell_type": "code",
   "execution_count": 11,
   "metadata": {},
   "outputs": [
    {
     "name": "stdout",
     "output_type": "stream",
     "text": [
      "Results summary\n",
      "Results in project1\\fractal_dim_2_1_2_2\n",
      "Showing 10 best trials\n",
      "Objective(name='mean_absolute_percentage_error', direction='min')\n",
      "Trial summary\n",
      "Hyperparameters:\n",
      "num_layers: 4\n",
      "units_0: 192\n",
      "learning_rate: 0.0001\n",
      "units_1: 160\n",
      "units_2: 96\n",
      "units_3: 32\n",
      "units_4: 192\n",
      "units_5: 32\n",
      "units_6: 192\n",
      "units_7: 160\n",
      "units_8: 160\n",
      "Score: 2.778304179509481\n",
      "Trial summary\n",
      "Hyperparameters:\n",
      "num_layers: 5\n",
      "units_0: 96\n",
      "learning_rate: 0.001\n",
      "units_1: 64\n",
      "units_2: 160\n",
      "units_3: 256\n",
      "units_4: 224\n",
      "Score: 2.945071220397949\n",
      "Trial summary\n",
      "Hyperparameters:\n",
      "num_layers: 8\n",
      "units_0: 64\n",
      "learning_rate: 0.001\n",
      "units_1: 256\n",
      "units_2: 64\n",
      "units_3: 128\n",
      "units_4: 96\n",
      "units_5: 96\n",
      "units_6: 192\n",
      "units_7: 64\n",
      "units_8: 224\n",
      "Score: 9.816740989685059\n",
      "Trial summary\n",
      "Hyperparameters:\n",
      "num_layers: 9\n",
      "units_0: 96\n",
      "learning_rate: 0.001\n",
      "units_1: 64\n",
      "units_2: 32\n",
      "units_3: 64\n",
      "units_4: 224\n",
      "units_5: 32\n",
      "units_6: 192\n",
      "units_7: 96\n",
      "units_8: 64\n",
      "Score: 13.391101678212484\n",
      "Trial summary\n",
      "Hyperparameters:\n",
      "num_layers: 5\n",
      "units_0: 96\n",
      "learning_rate: 0.01\n",
      "units_1: 192\n",
      "units_2: 64\n",
      "units_3: 96\n",
      "units_4: 96\n",
      "units_5: 224\n",
      "units_6: 256\n",
      "units_7: 160\n",
      "units_8: 128\n",
      "Score: 15.137951532999674\n",
      "Trial summary\n",
      "Hyperparameters:\n",
      "num_layers: 9\n",
      "units_0: 160\n",
      "learning_rate: 0.0001\n",
      "units_1: 64\n",
      "units_2: 192\n",
      "units_3: 64\n",
      "units_4: 224\n",
      "units_5: 128\n",
      "units_6: 128\n",
      "units_7: 224\n",
      "units_8: 32\n",
      "Score: 16.28429921468099\n",
      "Trial summary\n",
      "Hyperparameters:\n",
      "num_layers: 8\n",
      "units_0: 96\n",
      "learning_rate: 0.0001\n",
      "units_1: 64\n",
      "units_2: 224\n",
      "units_3: 96\n",
      "units_4: 64\n",
      "units_5: 160\n",
      "units_6: 192\n",
      "units_7: 128\n",
      "units_8: 96\n",
      "Score: 16.468746185302734\n",
      "Trial summary\n",
      "Hyperparameters:\n",
      "num_layers: 9\n",
      "units_0: 96\n",
      "learning_rate: 0.001\n",
      "units_1: 256\n",
      "units_2: 64\n",
      "units_3: 32\n",
      "units_4: 224\n",
      "units_5: 32\n",
      "units_6: 32\n",
      "units_7: 32\n",
      "units_8: 32\n",
      "Score: 16.57643763224284\n",
      "Trial summary\n",
      "Hyperparameters:\n",
      "num_layers: 9\n",
      "units_0: 128\n",
      "learning_rate: 0.01\n",
      "units_1: 96\n",
      "units_2: 128\n",
      "units_3: 192\n",
      "units_4: 160\n",
      "units_5: 64\n",
      "units_6: 160\n",
      "units_7: 128\n",
      "units_8: 224\n",
      "Score: 81.08790588378906\n",
      "Trial summary\n",
      "Hyperparameters:\n",
      "num_layers: 5\n",
      "units_0: 256\n",
      "learning_rate: 0.1\n",
      "units_1: 128\n",
      "units_2: 128\n",
      "units_3: 32\n",
      "units_4: 32\n",
      "Score: 99.0700912475586\n"
     ]
    }
   ],
   "source": [
    "tuner.results_summary()"
   ]
  },
  {
   "cell_type": "code",
   "execution_count": 7,
   "metadata": {},
   "outputs": [
    {
     "name": "stdout",
     "output_type": "stream",
     "text": [
      "Model: \"sequential\"\n",
      "_________________________________________________________________\n",
      "Layer (type)                 Output Shape              Param #   \n",
      "=================================================================\n",
      "dense (Dense)                (None, 192)               1728      \n",
      "_________________________________________________________________\n",
      "dense_1 (Dense)              (None, 160)               30880     \n",
      "_________________________________________________________________\n",
      "dense_2 (Dense)              (None, 96)                15456     \n",
      "_________________________________________________________________\n",
      "dense_3 (Dense)              (None, 32)                3104      \n",
      "_________________________________________________________________\n",
      "dense_4 (Dense)              (None, 192)               6336      \n",
      "_________________________________________________________________\n",
      "dense_5 (Dense)              (None, 32)                6176      \n",
      "_________________________________________________________________\n",
      "dense_6 (Dense)              (None, 192)               6336      \n",
      "_________________________________________________________________\n",
      "dense_7 (Dense)              (None, 160)               30880     \n",
      "_________________________________________________________________\n",
      "dense_8 (Dense)              (None, 160)               25760     \n",
      "_________________________________________________________________\n",
      "dense_9 (Dense)              (None, 3)                 483       \n",
      "=================================================================\n",
      "Total params: 127,139\n",
      "Trainable params: 127,139\n",
      "Non-trainable params: 0\n",
      "_________________________________________________________________\n"
     ]
    }
   ],
   "source": [
    "NN_model2 = Sequential()\n",
    "\n",
    "# The Input Layer :\n",
    "NN_model2.add(Dense(192, kernel_initializer='normal',input_dim = X_train.shape[1], activation='relu'))\n",
    "\n",
    "# The Hidden Layers :\n",
    "NN_model2.add(Dense(160, kernel_initializer='normal',activation='relu'))\n",
    "NN_model2.add(Dense(96, kernel_initializer='normal',activation='relu'))\n",
    "NN_model2.add(Dense(32, kernel_initializer='normal',activation='relu'))\n",
    "NN_model2.add(Dense(192, kernel_initializer='normal',activation='relu'))\n",
    "NN_model2.add(Dense(32, kernel_initializer='normal',activation='relu'))\n",
    "NN_model2.add(Dense(192, kernel_initializer='normal',activation='relu'))\n",
    "NN_model2.add(Dense(160, kernel_initializer='normal',activation='relu'))\n",
    "NN_model2.add(Dense(160, kernel_initializer='normal',activation='relu'))\n",
    "\n",
    "# The Output Layer :\n",
    "NN_model2.add(Dense(3, kernel_initializer='normal',activation='linear'))\n",
    "\n",
    "\n",
    "# Compile the network :\n",
    "NN_model2.compile(loss='mean_absolute_percentage_error', optimizer='adam', metrics=['accuracy'])\n",
    "NN_model2.summary()"
   ]
  },
  {
   "cell_type": "code",
   "execution_count": 8,
   "metadata": {},
   "outputs": [],
   "source": [
    "filepath=\"fractal_dimension_2_2_with_min_max/Weights-{epoch:03d}--{val_loss:.5f}.hdf5\"\n",
    "\n",
    "checkpoint = ModelCheckpoint(filepath, verbose=1, monitor='val_loss',save_best_only=True, mode='auto')  "
   ]
  },
  {
   "cell_type": "code",
   "execution_count": 9,
   "metadata": {},
   "outputs": [],
   "source": [
    "# # patient early stopping\n",
    "es = EarlyStopping(monitor='val_loss', patience=100, verbose=1)"
   ]
  },
  {
   "cell_type": "code",
   "execution_count": 10,
   "metadata": {},
   "outputs": [],
   "source": [
    "log_csv=CSVLogger('fractal_dimension_2_2_with_min_max_loss_logs.csv', separator=',', append=False)"
   ]
  },
  {
   "cell_type": "code",
   "execution_count": 11,
   "metadata": {},
   "outputs": [],
   "source": [
    "callback_list=[checkpoint, es, log_csv]"
   ]
  },
  {
   "cell_type": "code",
   "execution_count": 12,
   "metadata": {},
   "outputs": [
    {
     "name": "stdout",
     "output_type": "stream",
     "text": [
      "Epoch 1/5\n",
      "172/172 [==============================] - 3s 8ms/step - loss: 48.2254 - accuracy: 0.7915 - val_loss: 31.0402 - val_accuracy: 0.9818\n",
      "\n",
      "Epoch 00001: val_loss improved from inf to 31.04020, saving model to fractal_dimension_2_2_with_min_max\\Weights-001--31.04020.hdf5\n",
      "Epoch 2/5\n",
      "172/172 [==============================] - 1s 6ms/step - loss: 23.6136 - accuracy: 0.8695 - val_loss: 22.9488 - val_accuracy: 0.9818\n",
      "\n",
      "Epoch 00002: val_loss improved from 31.04020 to 22.94881, saving model to fractal_dimension_2_2_with_min_max\\Weights-002--22.94881.hdf5\n",
      "Epoch 3/5\n",
      "172/172 [==============================] - 1s 6ms/step - loss: 23.2048 - accuracy: 0.8695 - val_loss: 23.2641 - val_accuracy: 0.9818\n",
      "\n",
      "Epoch 00003: val_loss did not improve from 22.94881\n",
      "Epoch 4/5\n",
      "172/172 [==============================] - 1s 6ms/step - loss: 21.4067 - accuracy: 0.8695 - val_loss: 19.6371 - val_accuracy: 0.9818\n",
      "\n",
      "Epoch 00004: val_loss improved from 22.94881 to 19.63713, saving model to fractal_dimension_2_2_with_min_max\\Weights-004--19.63713.hdf5\n",
      "Epoch 5/5\n",
      "172/172 [==============================] - 1s 6ms/step - loss: 19.4697 - accuracy: 0.8695 - val_loss: 20.8452 - val_accuracy: 0.9818\n",
      "\n",
      "Epoch 00005: val_loss did not improve from 19.63713\n"
     ]
    }
   ],
   "source": [
    "history2= NN_model2.fit(X_train, Y_train, epochs=5, batch_size=32, validation_split = 0.2, callbacks=callback_list)\n",
    "#history= NN_model.fit(X_train, Y_train, epochs=7, batch_size=32, validation_split = 0.2)"
   ]
  },
  {
   "cell_type": "code",
   "execution_count": 13,
   "metadata": {},
   "outputs": [],
   "source": [
    "NN_model2.save('fractal_dimension_2_2_with_min_max.h5')"
   ]
  },
  {
   "cell_type": "code",
   "execution_count": 14,
   "metadata": {},
   "outputs": [
    {
     "name": "stdout",
     "output_type": "stream",
     "text": [
      "Train loss: 19.697, Test loss: 28.166\n"
     ]
    },
    {
     "data": {
      "image/png": "[encoded data removed]",
      "text/plain": [
       "<Figure size 432x288 with 1 Axes>"
      ]
     },
     "metadata": {
      "needs_background": "light"
     },
     "output_type": "display_data"
    }
   ],
   "source": [
    "# evaluate the model\n",
    "train_loss, train_acc = NN_model2.evaluate(X_train, Y_train, verbose=0)\n",
    "test_loss, test_acc = NN_model2.evaluate(X_test, Y_test, verbose=0)\n",
    "print('Train loss: %.3f, Test loss: %.3f' % (train_loss, test_loss))\n",
    "# plot training history\n",
    "plt.plot(history2.history['loss'], label='train')\n",
    "plt.plot(history2.history['val_loss'], label='Validation')\n",
    "plt.legend()\n",
    "plt.show()"
   ]
  },
  {
   "cell_type": "code",
   "execution_count": 15,
   "metadata": {},
   "outputs": [],
   "source": [
    "weights_file = 'fractal_dimension_2_2_with_min_max/Weights-140--5.92617.hdf5' # choose the best checkpoint \n",
    "NN_model2.load_weights(weights_file) # load it\n",
    "NN_model2.compile(loss='mean_absolute_percentage_error', optimizer='adam', metrics=['mean_absolute_percentage_error'])"
   ]
  },
  {
   "cell_type": "code",
   "execution_count": 16,
   "metadata": {},
   "outputs": [],
   "source": [
    "Y_pred = NN_model2.predict(X_test)\n",
    "#Y_pred=scaling_y.inverse_transform(Y_pred)"
   ]
  },
  {
   "cell_type": "code",
   "execution_count": 34,
   "metadata": {},
   "outputs": [
    {
     "data": {
      "text/plain": [
       "array([[1.12772465e-01, 2.87264382e-04, 3.98085313e-03],\n",
       "       [1.43936619e-01, 8.18360480e-04, 8.11947323e-03],\n",
       "       [1.85850799e-01, 2.00543343e-03, 1.65507160e-02],\n",
       "       ...,\n",
       "       [8.18228960e-01, 8.01968575e-01, 7.81833053e-01],\n",
       "       [8.46413493e-01, 8.37947845e-01, 7.91652024e-01],\n",
       "       [8.75137448e-01, 8.72808576e-01, 8.00253093e-01]], dtype=float32)"
      ]
     },
     "execution_count": 34,
     "metadata": {},
     "output_type": "execute_result"
    }
   ],
   "source": [
    "Y_pred"
   ]
  },
  {
   "cell_type": "code",
   "execution_count": 35,
   "metadata": {},
   "outputs": [
    {
     "data": {
      "text/html": [
       "<div>\n",
       "<style scoped>\n",
       "    .dataframe tbody tr th:only-of-type {\n",
       "        vertical-align: middle;\n",
       "    }\n",
       "\n",
       "    .dataframe tbody tr th {\n",
       "        vertical-align: top;\n",
       "    }\n",
       "\n",
       "    .dataframe thead th {\n",
       "        text-align: right;\n",
       "    }\n",
       "</style>\n",
       "<table border=\"1\" class=\"dataframe\">\n",
       "  <thead>\n",
       "    <tr style=\"text-align: right;\">\n",
       "      <th></th>\n",
       "      <th>q_abs</th>\n",
       "      <th>q_sca</th>\n",
       "      <th>g</th>\n",
       "    </tr>\n",
       "  </thead>\n",
       "  <tbody>\n",
       "    <tr>\n",
       "      <th>0</th>\n",
       "      <td>0.112772</td>\n",
       "      <td>0.000287</td>\n",
       "      <td>0.003981</td>\n",
       "    </tr>\n",
       "    <tr>\n",
       "      <th>1</th>\n",
       "      <td>0.143937</td>\n",
       "      <td>0.000818</td>\n",
       "      <td>0.008119</td>\n",
       "    </tr>\n",
       "    <tr>\n",
       "      <th>2</th>\n",
       "      <td>0.185851</td>\n",
       "      <td>0.002005</td>\n",
       "      <td>0.016551</td>\n",
       "    </tr>\n",
       "    <tr>\n",
       "      <th>3</th>\n",
       "      <td>0.222542</td>\n",
       "      <td>0.003697</td>\n",
       "      <td>0.023324</td>\n",
       "    </tr>\n",
       "    <tr>\n",
       "      <th>4</th>\n",
       "      <td>0.249847</td>\n",
       "      <td>0.005696</td>\n",
       "      <td>0.029588</td>\n",
       "    </tr>\n",
       "    <tr>\n",
       "      <th>...</th>\n",
       "      <td>...</td>\n",
       "      <td>...</td>\n",
       "      <td>...</td>\n",
       "    </tr>\n",
       "    <tr>\n",
       "      <th>2963</th>\n",
       "      <td>0.758170</td>\n",
       "      <td>0.726653</td>\n",
       "      <td>0.764426</td>\n",
       "    </tr>\n",
       "    <tr>\n",
       "      <th>2964</th>\n",
       "      <td>0.789244</td>\n",
       "      <td>0.765660</td>\n",
       "      <td>0.772532</td>\n",
       "    </tr>\n",
       "    <tr>\n",
       "      <th>2965</th>\n",
       "      <td>0.818229</td>\n",
       "      <td>0.801969</td>\n",
       "      <td>0.781833</td>\n",
       "    </tr>\n",
       "    <tr>\n",
       "      <th>2966</th>\n",
       "      <td>0.846413</td>\n",
       "      <td>0.837948</td>\n",
       "      <td>0.791652</td>\n",
       "    </tr>\n",
       "    <tr>\n",
       "      <th>2967</th>\n",
       "      <td>0.875137</td>\n",
       "      <td>0.872809</td>\n",
       "      <td>0.800253</td>\n",
       "    </tr>\n",
       "  </tbody>\n",
       "</table>\n",
       "<p>2968 rows × 3 columns</p>\n",
       "</div>"
      ],
      "text/plain": [
       "         q_abs     q_sca         g\n",
       "0     0.112772  0.000287  0.003981\n",
       "1     0.143937  0.000818  0.008119\n",
       "2     0.185851  0.002005  0.016551\n",
       "3     0.222542  0.003697  0.023324\n",
       "4     0.249847  0.005696  0.029588\n",
       "...        ...       ...       ...\n",
       "2963  0.758170  0.726653  0.764426\n",
       "2964  0.789244  0.765660  0.772532\n",
       "2965  0.818229  0.801969  0.781833\n",
       "2966  0.846413  0.837948  0.791652\n",
       "2967  0.875137  0.872809  0.800253\n",
       "\n",
       "[2968 rows x 3 columns]"
      ]
     },
     "execution_count": 35,
     "metadata": {},
     "output_type": "execute_result"
    }
   ],
   "source": [
    "new_y_pred = pd.DataFrame(data=Y_pred, columns=[\"q_abs\", \"q_sca\",\"g\"])\n",
    "new_y_pred"
   ]
  },
  {
   "cell_type": "code",
   "execution_count": 48,
   "metadata": {},
   "outputs": [],
   "source": [
    "Y_test.reset_index(inplace = True, drop=True)\n"
   ]
  },
  {
   "cell_type": "code",
   "execution_count": 52,
   "metadata": {},
   "outputs": [
    {
     "data": {
      "text/plain": [
       "array([[ 1.29373796,  0.8503249 , -1.01093925, ..., -1.48688384,\n",
       "        -1.53366351, -1.1796813 ],\n",
       "       [ 1.29373796,  0.8503249 , -1.01093925, ..., -1.39604245,\n",
       "        -1.41891619, -1.13727688],\n",
       "       [ 1.29373796,  0.8503249 , -1.01093925, ..., -1.28158948,\n",
       "        -1.27434361, -1.07689085],\n",
       "       ...,\n",
       "       [-1.10875777,  1.17479659,  2.1962418 , ...,  3.31383812,\n",
       "         1.2776448 ,  2.96724435],\n",
       "       [-1.10875777,  1.17479659,  2.1962418 , ...,  3.5200627 ,\n",
       "         1.40789226,  3.23017222],\n",
       "       [-1.10875777,  1.17479659,  2.1962418 , ...,  3.71152429,\n",
       "         1.5288157 ,  3.47913291]])"
      ]
     },
     "execution_count": 52,
     "metadata": {},
     "output_type": "execute_result"
    }
   ],
   "source": [
    "X_test"
   ]
  },
  {
   "cell_type": "code",
   "execution_count": 50,
   "metadata": {},
   "outputs": [],
   "source": [
    "diff=Y_test-Y_pred"
   ]
  },
  {
   "cell_type": "code",
   "execution_count": 51,
   "metadata": {},
   "outputs": [
    {
     "data": {
      "text/plain": [
       "0       0.004138\n",
       "1       0.009063\n",
       "2       0.011519\n",
       "3       0.005878\n",
       "4       0.001703\n",
       "          ...   \n",
       "2963    0.252830\n",
       "2964    0.268556\n",
       "2965    0.281771\n",
       "2966    0.293287\n",
       "2967    0.300763\n",
       "Name: q_abs, Length: 2968, dtype: float64"
      ]
     },
     "execution_count": 51,
     "metadata": {},
     "output_type": "execute_result"
    }
   ],
   "source": [
    "diff['q_abs']"
   ]
  },
  {
   "cell_type": "code",
   "execution_count": 36,
   "metadata": {},
   "outputs": [
    {
     "name": "stdout",
     "output_type": "stream",
     "text": [
      "Mean absolute percentage error on test set:  [0.04380308 0.09612698 0.0558288 ]\n"
     ]
    }
   ],
   "source": [
    "error= mean_absolute_percentage_error(Y_test, new_y_pred, multioutput='raw_values')   \n",
    "print('Mean absolute percentage error on test set: ', error)"
   ]
  },
  {
   "cell_type": "code",
   "execution_count": 37,
   "metadata": {},
   "outputs": [
    {
     "name": "stdout",
     "output_type": "stream",
     "text": [
      "Mean absolute percentage error on test set:  [0.04380308 0.09612698 0.0558288 ]\n"
     ]
    }
   ],
   "source": [
    "error= mean_absolute_percentage_error(Y_test, Y_pred, multioutput='raw_values')   \n",
    "print('Mean absolute percentage error on test set: ', error)"
   ]
  },
  {
   "cell_type": "code",
   "execution_count": null,
   "metadata": {},
   "outputs": [],
   "source": []
  }
 ],
 "metadata": {
  "kernelspec": {
   "display_name": "Python 3 (ipykernel)",
   "language": "python",
   "name": "python3"
  },
  "language_info": {
   "codemirror_mode": {
    "name": "ipython",
    "version": 3
   },
   "file_extension": ".py",
   "mimetype": "text/x-python",
   "name": "python",
   "nbconvert_exporter": "python",
   "pygments_lexer": "ipython3",
   "version": "3.9.7"
  }
 },
 "nbformat": 4,
 "nbformat_minor": 4
}
